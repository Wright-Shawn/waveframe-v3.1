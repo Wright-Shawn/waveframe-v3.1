# Core imports
import numpy as np
import matplotlib.pyplot as plt
from scipy.integrate import solve_ivp, quad
from scipy.interpolate import interp1d
import pandas as pd
import warnings

# Display formatting
warnings.filterwarnings('ignore')
plt.rcParams['figure.figsize'] = (10, 6)
plt.rcParams['axes.grid'] = True

# Constants
c = 299792.458  # Speed of light in km/s
H0 = 70.0       # Hubble constant today in km/s/Mpc
π = np.pi
