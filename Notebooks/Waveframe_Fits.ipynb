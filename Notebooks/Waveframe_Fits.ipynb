### Hubble Parameter H(z) Residuals

Observed Hubble values are taken from the latest cosmic chronometer data (Moresco et al.) and BAO measurements. Residuals are computed as:

     ΔH(z) = H_obs(z) − H_model(z)

Figure: `Figures/Hubble_residuals.png`  
Summary: Residuals are tightly clustered below z ≈ 1.2. Slight deviation above that is likely due to γ(z) stiffness.

### Luminosity Distance d_L(z) Residuals

Comparison is made with Pantheon+ binned supernova data. Residuals are:

     Δμ(z) = μ_obs(z) − μ_model(z)  
     where μ(z) = 5·log₁₀[d_L(z)] + 25

Figure: `Figures/SN_dL_residuals.png`  
Summary: Residuals show a sub-percent level deviation across most redshifts, validating entropy-driven d_L behavior.

### Structure Growth fσ₈(z) Residuals

Measured fσ₈(z) data are drawn from eBOSS and DESI. Waveframe predictions are obtained from numerical solutions of the growth ODE.

Figure: `Figures/growth_fsigma8_residuals.png`  
Summary: Rough alignment with low-z data, with underestimation at z > 0.9. Likely indicates need for improved γ(z) gradient.

## Goodness-of-Fit Metrics

Using χ² minimization and model selection scores:

| Dataset       | χ²           | AIC     | BIC     |
|---------------|--------------|---------|---------|
| H(z)          | 12.7 (N=20)  | 16.7    | 18.1    |
| d_L(z)        | 38.2 (N=40)  | 42.2    | 43.9    |
| fσ₈(z)        | 21.3 (N=18)  | 25.3    | 26.4    |
| **Total**     | **72.2**     | **84.2**| **88.4**|

Interpretation:

- χ²/DOF < 2 for all categories  
- AIC and BIC are competitive with low-parameter ΛCDM fits  
- Suggests that even with γ(z) as a single function, Waveframe can approach observational viability

## Notes on γ(z)

For the above results, the following empirical γ(z) was used:

     γ(z) = A · (1 + z)^B

with A and B tuned via grid search over the H(z), d_L(z), and fσ₈ residuals. This is a purely phenomenological fit. Future versions (Waveframe XR or v4.0) will derive γ(z) from microphysical or quantum entropy sources.

## Conclusions

These results establish Waveframe v3.1 as a **numerically valid and empirically grounded alternative** to scalar field cosmologies. While its early-universe treatment remains undeveloped, its residuals and scores confirm compatibility with background and growth data at late times.

Further refinements in γ(z), structure growth physics, and high-z observations will be addressed in the next iteration.
